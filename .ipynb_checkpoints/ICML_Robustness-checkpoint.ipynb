{
 "cells": [
  {
   "cell_type": "markdown",
   "metadata": {},
   "source": [
    "# Robustness to Parameter Perturbations"
   ]
  },
  {
   "cell_type": "markdown",
   "metadata": {},
   "source": [
    "In this notebook, we see how the lower-frequencies are less vulnerable to random perturbatations in the parameters. This means that _high-frequency parameters_ could be hard to find. "
   ]
  },
  {
   "cell_type": "code",
   "execution_count": 25,
   "metadata": {},
   "outputs": [],
   "source": [
    "import torch\n",
    "import torch.nn as nn\n",
    "import torch.nn.functional as F\n",
    "from torch.autograd import Variable\n",
    "import numpy as np\n",
    "\n",
    "from argparse import Namespace\n",
    "from functools import reduce\n",
    "from copy import deepcopy\n",
    "\n",
    "import matplotlib\n",
    "from matplotlib import pyplot as plt\n",
    "import seaborn as sns\n",
    "sns.set()\n",
    "%matplotlib inline"
   ]
  },
  {
   "cell_type": "markdown",
   "metadata": {},
   "source": [
    "## Data Generation\n",
    "\n",
    "The code for generating the dataset and evaluating FFT. "
   ]
  },
  {
   "cell_type": "code",
   "execution_count": 2,
   "metadata": {},
   "outputs": [],
   "source": [
    "def make_phased_waves(opt):\n",
    "    t = np.arange(0, 1, 1./opt.N)\n",
    "    if opt.A is None:\n",
    "        yt = reduce(lambda a, b: a + b, \n",
    "                    [np.sin(2 * np.pi * ki * t + 2 * np.pi * phi) for ki, phi in zip(opt.K, opt.PHI)])\n",
    "    else:\n",
    "        yt = reduce(lambda a, b: a + b, \n",
    "                    [Ai * np.sin(2 * np.pi * ki * t + 2 * np.pi * phi) for ki, Ai, phi in zip(opt.K, opt.A, opt.PHI)])\n",
    "    return t, yt\n",
    "\n",
    "def fft(opt, yt):\n",
    "    n = len(yt) # length of the signal\n",
    "    k = np.arange(n)\n",
    "    T = n/opt.N\n",
    "    frq = k/T # two sides frequency range\n",
    "    frq = frq[range(n//2)] # one side frequency range\n",
    "    # -------------\n",
    "    FFTYT = np.fft.fft(yt)/n # fft computing and normalization\n",
    "    FFTYT = FFTYT[range(n//2)]\n",
    "    fftyt = abs(FFTYT)\n",
    "    return frq, fftyt\n",
    "\n",
    "def to_torch_dataset_1d(opt, t, yt):\n",
    "    t = torch.from_numpy(t).view(-1, 1).float()\n",
    "    yt = torch.from_numpy(yt).view(-1, 1).float()\n",
    "    if opt.CUDA:\n",
    "        t = t.cuda()\n",
    "        yt = yt.cuda()\n",
    "    return t, yt"
   ]
  },
  {
   "cell_type": "markdown",
   "metadata": {},
   "source": [
    "## Model Training"
   ]
  },
  {
   "cell_type": "code",
   "execution_count": 3,
   "metadata": {},
   "outputs": [],
   "source": [
    "def make_model(opt):\n",
    "    layers = []\n",
    "    layers.append(nn.Linear(opt.INP_DIM, opt.WIDTH))\n",
    "    layers.append(nn.ReLU())\n",
    "    for _ in range(opt.DEPTH - 2): \n",
    "        layers.append(nn.Linear(opt.WIDTH, opt.WIDTH))\n",
    "        layers.append(nn.ReLU())\n",
    "    layers.extend([nn.Linear(opt.WIDTH, opt.OUT_DIM)])\n",
    "    model = nn.Sequential(*layers)\n",
    "    if opt.CUDA:\n",
    "        model = model.cuda()\n",
    "    return model"
   ]
  },
  {
   "cell_type": "code",
   "execution_count": 4,
   "metadata": {},
   "outputs": [],
   "source": [
    "def power_iteration(A, num_simulations=10):\n",
    "    # Ideally choose a random vector\n",
    "    # To decrease the chance that our vector\n",
    "    # Is orthogonal to the eigenvector\n",
    "    A = A.data\n",
    "    b_k = A.new(A.shape[1], 1).normal_()\n",
    "    for _ in range(num_simulations):\n",
    "        # calculate the matrix-by-vector product Ab\n",
    "        b_k1 = A @ b_k\n",
    "        # calculate the norm\n",
    "        b_k1_norm = torch.norm(b_k1)\n",
    "        # re normalize the vector\n",
    "        b_k = b_k1 / b_k1_norm\n",
    "    return ((b_k.t() @ A @ b_k) / b_k.t() @ b_k).squeeze().abs()\n",
    "    # return torch.dot(torch.dot(b_k.t(), A), b_k) / torch.dot(b_k.t(), b_k)\n",
    "\n",
    "def spectral_norm(model): \n",
    "    norms = []\n",
    "    for layer in model: \n",
    "        if isinstance(layer, nn.Linear):\n",
    "            if layer.in_features == layer.out_features: \n",
    "                norms.append(power_iteration(layer.weight).cpu().numpy())\n",
    "            elif layer.in_features == 1 or layer.out_features == 1: \n",
    "                norms.append(torch.norm(layer.weight.data))\n",
    "    return norms"
   ]
  },
  {
   "cell_type": "code",
   "execution_count": 5,
   "metadata": {},
   "outputs": [],
   "source": [
    "def train_model(opt, model, input_, target):\n",
    "    # Build loss\n",
    "    loss_fn = nn.MSELoss()\n",
    "    # Build optim\n",
    "    optim = torch.optim.Adam(model.parameters(), lr=opt.LR)\n",
    "    # Rec\n",
    "    frames = []\n",
    "    model.train()\n",
    "    # To cuda\n",
    "    if opt.CUDA:\n",
    "        input_ = input_.cuda()\n",
    "        target = target.cuda()\n",
    "    # Loop! \n",
    "    for iter_num in range(opt.NUM_ITER):\n",
    "        if iter_num % (opt.NUM_ITER // 100) == 0: \n",
    "            print(\">\", end='')\n",
    "        x = input_\n",
    "        yt = target.view(-1, opt.OUT_DIM)\n",
    "        optim.zero_grad()\n",
    "        y = model(x)\n",
    "        loss = loss_fn(y, yt)\n",
    "        loss.backward()\n",
    "        optim.step()\n",
    "        if iter_num % opt.REC_FRQ == 0: \n",
    "            # Measure spectral norm\n",
    "            frames.append(Namespace(iter_num=iter_num, \n",
    "                                    prediction=y.data.cpu().numpy(), \n",
    "                                    loss=loss.item(), \n",
    "                                    spectral_norms=spectral_norm(model)))\n",
    "    # Done\n",
    "    model.eval()\n",
    "    return frames"
   ]
  },
  {
   "cell_type": "markdown",
   "metadata": {},
   "source": [
    "## Parameter Perturbations"
   ]
  },
  {
   "cell_type": "code",
   "execution_count": 43,
   "metadata": {},
   "outputs": [],
   "source": [
    "def param_norm(params):\n",
    "    return np.sqrt(sum([p.data.pow(2).sum().item() for p in params]))\n",
    "\n",
    "def unit_params(like):\n",
    "    new_params = [Variable(p.data.new(*p.size()).normal_(), requires_grad=True) for p in like]\n",
    "    norm = param_norm(new_params)\n",
    "    for p in new_params:\n",
    "        p.data.div_(norm)\n",
    "    return new_params\n",
    "\n",
    "def axis_aligned_unit_params(like):\n",
    "    new_params = [Variable(p.data.new(*p.size()).zero_(), requires_grad=True) for p in like]\n",
    "    # Choose a random weight matrix\n",
    "    rand_ps = [p for p in new_params if p.dim() == 2]\n",
    "    rand_p = rand_ps[np.random.randint(len(rand_ps))]\n",
    "    # Light one up at a random position\n",
    "    y_idx = np.random.randint(rand_p.size(0))\n",
    "    x_idx = np.random.randint(rand_p.size(1))\n",
    "    rand_p.data[y_idx, x_idx] = 1\n",
    "    return new_params\n",
    "\n",
    "def set_params(model, params, inplace=False):\n",
    "    if inplace:\n",
    "        model_cp = model\n",
    "    else:\n",
    "        model_cp = deepcopy(model)\n",
    "    for p, new_p in zip(model_cp.parameters(), params):\n",
    "        p.data.copy_(new_p.data)\n",
    "    return model_cp\n",
    "\n",
    "def scale_params(params, scale, inplace=False):\n",
    "    if not inplace:\n",
    "        params = deepcopy(params)\n",
    "    for p in params: \n",
    "        p.data.mul_(scale)\n",
    "    return params\n",
    "\n",
    "def sum_params(param1, param2, inplace=False):\n",
    "    if not inplace:\n",
    "        params = deepcopy(param1)\n",
    "    else:\n",
    "        params = param1\n",
    "    for p, p2 in zip(params, param2): \n",
    "        p.data.add_(p2.data)\n",
    "    return params\n",
    "\n",
    "def scale_params_(params, scale):\n",
    "    return scale_params(params, scale, True)"
   ]
  },
  {
   "cell_type": "code",
   "execution_count": 54,
   "metadata": {},
   "outputs": [],
   "source": [
    "def measure_model(opt, frames, model):\n",
    "    # Sample random parameter\n",
    "    x, _ = to_torch_dataset_1d(opt, *make_phased_waves(opt))\n",
    "    if opt.CUDA: \n",
    "        model = model.cuda()\n",
    "    specs_at_norm = []\n",
    "    for perturb_norm in opt.PERTURB_NORMS: \n",
    "        samples = []\n",
    "        for samp_num in range(opt.NUM_SAMPLES): \n",
    "            rand_unit_params = unit_params(model.parameters())\n",
    "            scaled_params = scale_params_(rand_unit_params, perturb_norm)\n",
    "            perturbed_params = sum_params(list(model.parameters()), scaled_params, inplace=False)\n",
    "            # Set params\n",
    "            new_model = set_params(model, perturbed_params, inplace=False)\n",
    "            # Predict at x\n",
    "            preds = new_model(Variable(x, requires_grad=False)).data.cpu().numpy().squeeze()\n",
    "            frq, spectrum = fft(opt, preds.squeeze())\n",
    "            samples.append(spectrum)\n",
    "        mean_spec = np.array(samples).mean(0)\n",
    "        specs_at_norm.append(mean_spec)\n",
    "    specs_at_norm = np.array(specs_at_norm)\n",
    "    # Normalize\n",
    "    preds = frames[-1].prediction\n",
    "    frq, model_spectrum = fft(opt, preds.squeeze())\n",
    "    K_arr = np.array(opt.K).reshape(1, -1)\n",
    "    A_arr = model_spectrum[np.sum(frq.reshape(-1, 1) == K_arr, axis=-1, dtype='bool')]\n",
    "    normalized_specs_at_norm = specs_at_norm[:, np.sum(frq.reshape(-1, 1) == K_arr, axis=-1, dtype='bool')]/A_arr\n",
    "    return normalized_specs_at_norm\n",
    "\n",
    "def measure_all_models(opt, all_frames, models): \n",
    "    all_specs_at_norm = []\n",
    "    for frames, model in zip(all_frames, models): \n",
    "        print(\">\", end='')\n",
    "        specs_at_norm = measure_model(opt, frames, model)\n",
    "        all_specs_at_norm.append(specs_at_norm)\n",
    "    all_specs_at_norm = np.array(all_specs_at_norm).mean(0)\n",
    "    return all_specs_at_norm"
   ]
  },
  {
   "cell_type": "markdown",
   "metadata": {},
   "source": [
    "## Visualization"
   ]
  },
  {
   "cell_type": "code",
   "execution_count": 6,
   "metadata": {},
   "outputs": [],
   "source": [
    "def plot_wave_and_spectrum(opt, x, yox):\n",
    "    # Btw, \"yox\" --> \"y of x\"\n",
    "    # Compute fft\n",
    "    k, yok = fft(opt, yox)\n",
    "    # Plot\n",
    "    fig, (ax0, ax1) = plt.subplots(1, 2, figsize=(9, 4))\n",
    "    ax0.set_title(\"Function\")\n",
    "    ax0.plot(x, yox)\n",
    "    ax0.set_xlabel(\"x\")\n",
    "    ax0.set_ylabel(\"f(x)\")\n",
    "    ax1.set_title(\"FT of Function\")\n",
    "    ax1.plot(k, yok)\n",
    "    ax1.set_xlabel(\"k\")\n",
    "    ax1.set_ylabel(\"f(k)\")\n",
    "    plt.show()"
   ]
  },
  {
   "cell_type": "code",
   "execution_count": 62,
   "metadata": {},
   "outputs": [],
   "source": [
    "def compute_spectra(opt, frames): \n",
    "    # Make array for heatmap\n",
    "    dynamics = []\n",
    "    xticks = []\n",
    "    for iframe, frame in enumerate(frames): \n",
    "        # Compute fft of prediction\n",
    "        frq, yfft = fft(opt, frame.prediction.squeeze())\n",
    "        dynamics.append(yfft)\n",
    "        xticks.append(frame.iter_num)\n",
    "    return np.array(frq), np.array(dynamics), np.array(xticks)\n",
    "\n",
    "def plot_spectral_dynamics(opt, all_frames):\n",
    "    all_dynamics = []\n",
    "    # Compute spectra for all frames\n",
    "    for frames in all_frames: \n",
    "        frq, dynamics, xticks = compute_spectra(opt, frames)\n",
    "        all_dynamics.append(dynamics)\n",
    "    # Average dynamics over multiple frames\n",
    "    # mean_dynamics.shape = (num_iterations, num_frequencies)\n",
    "    mean_dynamics = np.array(all_dynamics).mean(0)\n",
    "    # Select the frequencies which are present in the target spectrum\n",
    "    freq_selected = mean_dynamics[:, np.sum(frq.reshape(-1, 1) == np.array(opt.K).reshape(1, -1), \n",
    "                                            axis=-1, dtype='bool')]\n",
    "    # Normalize by the amplitude. Remember to account for the fact that the measured spectra \n",
    "    # are single-sided (positive freqs), so multiply by 2 accordingly\n",
    "    norm_dynamics = 2 * freq_selected / np.array(opt.A).reshape(1, -1)\n",
    "    # Plot heatmap\n",
    "    plt.figure(figsize=(7, 6))\n",
    "    # plt.title(\"Evolution of Frequency Spectrum (Increasing Amplitudes)\")\n",
    "    sns.heatmap(norm_dynamics[::-1], \n",
    "                xticklabels=opt.K, \n",
    "                yticklabels=[(frame.iter_num if frame.iter_num % 10000 == 0 else '') \n",
    "                             for _, frame in zip(range(norm_dynamics.shape[0]), frames)][::-1], \n",
    "                vmin=0., vmax=1., \n",
    "                cmap=sns.cubehelix_palette(8, start=.5, rot=-.75, reverse=True, as_cmap=True))\n",
    "    plt.xlabel(\"Frequency [Hz]\")\n",
    "    plt.ylabel(\"Training Iteration\")\n",
    "    plt.show()\n",
    "\n",
    "def plot_multiple_spectral_norms(all_frames):\n",
    "    iter_nums = np.array([frame.iter_num for frame in all_frames[0]])\n",
    "    norms = np.array([np.array(list(zip(*[frame.spectral_norms for frame in frames]))).squeeze() for frames in all_frames])\n",
    "    means = norms.mean(0)\n",
    "    stds = norms.std(0)\n",
    "    plt.xlabel(\"Training Iteration\")\n",
    "    plt.ylabel(\"Spectral Norm of Layer Weights\")\n",
    "    for layer_num, (mean_curve, std_curve) in enumerate(zip(means, stds)): \n",
    "        p = plt.plot(iter_nums, mean_curve, label=f'Layer {layer_num + 1}')\n",
    "        plt.fill_between(iter_nums, mean_curve + std_curve, mean_curve - std_curve, color=p[0].get_color(), alpha=0.15)\n",
    "    plt.legend()\n",
    "    plt.show()\n",
    "    \n",
    "def plot_robustness(opt, mean_spectra): \n",
    "    # Plot heatmap\n",
    "    plt.figure(figsize=(7, 6))\n",
    "    sns.heatmap(mean_spectra[::-1], \n",
    "                xticklabels=opt.K, \n",
    "                yticklabels=[(np.round(norm) if i % 20 == 0 else '') for i, norm in enumerate(opt.PERTURB_NORMS)][::-1], \n",
    "                vmin=0., vmax=1., \n",
    "               )\n",
    "    plt.xlabel(\"Frequency [Hz]\")\n",
    "    plt.ylabel(\"Perturbation Norm\")\n",
    "    plt.show()"
   ]
  },
  {
   "cell_type": "markdown",
   "metadata": {},
   "source": [
    "## Play"
   ]
  },
  {
   "cell_type": "code",
   "execution_count": 8,
   "metadata": {},
   "outputs": [],
   "source": [
    "opt = Namespace()"
   ]
  },
  {
   "cell_type": "code",
   "execution_count": 9,
   "metadata": {},
   "outputs": [],
   "source": [
    "# Data Generation\n",
    "opt.N = 200\n",
    "opt.K = [5, 10, 15, 20, 25, 30, 35, 40, 45, 50]\n",
    "opt.A = [1 for _ in opt.K]\n",
    "opt.PHI = [np.random.rand() for _ in opt.K]\n",
    "# Model parameters\n",
    "opt.INP_DIM = 1\n",
    "opt.OUT_DIM = 1\n",
    "opt.WIDTH = 256\n",
    "opt.DEPTH = 6\n",
    "# Training\n",
    "opt.CUDA = True\n",
    "opt.NUM_ITER = 60000\n",
    "opt.REC_FRQ = 100\n",
    "opt.LR = 0.0003"
   ]
  },
  {
   "cell_type": "markdown",
   "metadata": {},
   "source": [
    "### Plot the Functions\n",
    "\n",
    "... as a sanity check. "
   ]
  },
  {
   "cell_type": "code",
   "execution_count": 10,
   "metadata": {},
   "outputs": [
    {
     "data": {
      "image/png": "[encoded data removed]",
      "text/plain": [
       "<Figure size 648x288 with 2 Axes>"
      ]
     },
     "metadata": {},
     "output_type": "display_data"
    }
   ],
   "source": [
    "x, y = make_phased_waves(opt)\n",
    "plot_wave_and_spectrum(opt, x, y)"
   ]
  },
  {
   "cell_type": "markdown",
   "metadata": {},
   "source": [
    "Note that we only plot the positive frequencies, which is why the peaks in the spectrum are at $0.5$ (half the power is in the negative frequencies). "
   ]
  },
  {
   "cell_type": "markdown",
   "metadata": {},
   "source": [
    "### Train the Model"
   ]
  },
  {
   "cell_type": "code",
   "execution_count": 11,
   "metadata": {},
   "outputs": [],
   "source": [
    "def go(opt, repeats=10):\n",
    "    all_frames = []\n",
    "    models = []\n",
    "    for _ in range(repeats): \n",
    "        # Sample random phase\n",
    "        opt.PHI = [np.random.rand() for _ in opt.K]\n",
    "        # Generate data\n",
    "        x, y = to_torch_dataset_1d(opt, *make_phased_waves(opt))\n",
    "        # Make model\n",
    "        model = make_model(opt)\n",
    "        # Train\n",
    "        frames = train_model(opt, model, x, y)\n",
    "        all_frames.append(frames)\n",
    "        models.append(model.cpu())\n",
    "        print('', end='\\n')\n",
    "    return all_frames, models"
   ]
  },
  {
   "cell_type": "markdown",
   "metadata": {},
   "source": [
    "Train 5 models, as usual. "
   ]
  },
  {
   "cell_type": "code",
   "execution_count": 12,
   "metadata": {},
   "outputs": [],
   "source": [
    "opt.K = [5, 10, 15, 20, 25, 30, 35, 40, 45, 50]\n",
    "opt.A = [1 for _ in opt.K]"
   ]
  },
  {
   "cell_type": "code",
   "execution_count": 13,
   "metadata": {},
   "outputs": [
    {
     "name": "stdout",
     "output_type": "stream",
     "text": [
      ">>>>>>>>>>>>>>>>>>>>>>>>>>>>>>>>>>>>>>>>>>>>>>>>>>>>>>>>>>>>>>>>>>>>>>>>>>>>>>>>>>>>>>>>>>>>>>>>>>>>\n",
      ">>>>>>>>>>>>>>>>>>>>>>>>>>>>>>>>>>>>>>>>>>>>>>>>>>>>>>>>>>>>>>>>>>>>>>>>>>>>>>>>>>>>>>>>>>>>>>>>>>>>\n",
      ">>>>>>>>>>>>>>>>>>>>>>>>>>>>>>>>>>>>>>>>>>>>>>>>>>>>>>>>>>>>>>>>>>>>>>>>>>>>>>>>>>>>>>>>>>>>>>>>>>>>\n",
      ">>>>>>>>>>>>>>>>>>>>>>>>>>>>>>>>>>>>>>>>>>>>>>>>>>>>>>>>>>>>>>>>>>>>>>>>>>>>>>>>>>>>>>>>>>>>>>>>>>>>\n",
      ">>>>>>>>>>>>>>>>>>>>>>>>>>>>>>>>>>>>>>>>>>>>>>>>>>>>>>>>>>>>>>>>>>>>>>>>>>>>>>>>>>>>>>>>>>>>>>>>>>>>\n"
     ]
    }
   ],
   "source": [
    "frames, models = go(opt, 5)"
   ]
  },
  {
   "cell_type": "markdown",
   "metadata": {},
   "source": [
    "Draw 100 random unit vectors in the parameter space, and measure the frequency spectrum of the network as the parameters move along these unit vectors. Finally, average the results over the 100 unit vectors and the 5 models. "
   ]
  },
  {
   "cell_type": "code",
   "execution_count": 55,
   "metadata": {},
   "outputs": [],
   "source": [
    "opt.PERTURB_NORMS = np.linspace(0, 5.001, 100)\n",
    "opt.NUM_SAMPLES = 100"
   ]
  },
  {
   "cell_type": "code",
   "execution_count": 56,
   "metadata": {},
   "outputs": [
    {
     "name": "stdout",
     "output_type": "stream",
     "text": [
      ">>>>>"
     ]
    }
   ],
   "source": [
    "mean_spectra = measure_all_models(opt, frames, models)"
   ]
  },
  {
   "cell_type": "code",
   "execution_count": 65,
   "metadata": {},
   "outputs": [
    {
     "data": {
      "image/png": "[encoded data removed]",
      "text/plain": [
       "<Figure size 504x432 with 2 Axes>"
      ]
     },
     "metadata": {},
     "output_type": "display_data"
    }
   ],
   "source": [
    "SIZE = 15\n",
    "matplotlib.rc('xtick', labelsize=SIZE)\n",
    "matplotlib.rc('ytick', labelsize=SIZE)\n",
    "matplotlib.rc('axes', labelsize=SIZE, titlesize=SIZE)\n",
    "matplotlib.rc('legend', fontsize=SIZE)\n",
    "\n",
    "plot_robustness(opt, mean_spectra)"
   ]
  }
 ],
 "metadata": {
  "kernelspec": {
   "display_name": "Python 3",
   "language": "python",
   "name": "python3"
  },
  "language_info": {
   "codemirror_mode": {
    "name": "ipython",
    "version": 3
   },
   "file_extension": ".py",
   "mimetype": "text/x-python",
   "name": "python",
   "nbconvert_exporter": "python",
   "pygments_lexer": "ipython3",
   "version": "3.7.5"
  }
 },
 "nbformat": 4,
 "nbformat_minor": 2
}
